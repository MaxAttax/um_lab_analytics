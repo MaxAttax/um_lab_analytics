{
 "cells": [
  {
   "cell_type": "markdown",
   "metadata": {},
   "source": [
    "# Interactive Tutorial about Machine Learning\n",
    "In this tutorial you will learn how to perform an entire Machine Learning process using the data that you have just explored on the Dashboard. This Python Notebook will guid you through the basic steps and explains the Machine Learning algorithms behind.\n",
    "\n",
    "The data that is used during this tutorial is based on the simulation of a manufacturing process that you already examined using the dashboard and the presentation that shows the basic set-up of the production line. \n",
    "\n",
    "Each row in the data set represents the data of one unique product (Gear Shaft Composition). Based on the sensor values indicated in the dataset this notebook shows the derivation of a Machine Learning model that is able to predict whether the product will be good 'Good' ('OK') or 'Bad Quality' ('Failure').\n",
    "\n",
    "The notebook will guide you through this process step-by-step. Please execute each 'code' cell by marking it and run with \"Ctrl+Enter\". \n",
    "\n",
    "The next cell will only work, if the cell before has been executed successfully. Please make sure to run all cells in the correct order."
   ]
  },
  {
   "cell_type": "markdown",
   "metadata": {},
   "source": [
    "## Import of required libraries\n",
    "\n",
    "In the following cells, all required libraries will be imported. This includes libraries for plotting as well as for Machine Learning and visualization."
   ]
  },
  {
   "cell_type": "code",
   "execution_count": 1,
   "metadata": {
    "ExecuteTime": {
     "end_time": "2019-07-12T05:52:48.331684Z",
     "start_time": "2019-07-12T05:52:43.804878Z"
    },
    "editable": false
   },
   "outputs": [],
   "source": [
    "from sklearn.tree import DecisionTreeClassifier, export_graphviz\n",
    "from sklearn import tree\n",
    "from sklearn.datasets import load_wine\n",
    "from IPython.display import SVG\n",
    "from graphviz import Source\n",
    "from IPython.display import display                               \n",
    "from ipywidgets import interactive\n",
    "import pandas as pd\n",
    "from sklearn.model_selection import train_test_split\n",
    "from sklearn.model_selection import cross_val_score\n",
    "from sklearn import metrics\n",
    "from sklearn.metrics import confusion_matrix\n",
    "import scikitplot as skplt\n",
    "import matplotlib.pyplot as plt\n",
    "import matplotlib"
   ]
  },
  {
   "cell_type": "markdown",
   "metadata": {},
   "source": [
    "## Machine data import\n",
    "The simulated factory data is read in from a CSV file. For this purpose a 'Pandas' function called read_csv is used. By specifying the limiter, the process can successfully transfer the CSV file into a Pandas DataFrame."
   ]
  },
  {
   "cell_type": "code",
   "execution_count": 2,
   "metadata": {
    "ExecuteTime": {
     "end_time": "2019-07-12T05:52:53.231220Z",
     "start_time": "2019-07-12T05:52:53.140111Z"
    },
    "editable": false
   },
   "outputs": [],
   "source": [
    "input_factory_data = pd.read_csv(\"summerschool_dataset.csv\", sep=';')"
   ]
  },
  {
   "cell_type": "markdown",
   "metadata": {},
   "source": [
    "## Scatter plot function\n",
    "Definition of a function for dynamically creating scatter plots based on input data from the DataFrame"
   ]
  },
  {
   "cell_type": "code",
   "execution_count": 3,
   "metadata": {
    "ExecuteTime": {
     "end_time": "2019-07-12T05:52:56.269979Z",
     "start_time": "2019-07-12T05:52:56.265954Z"
    },
    "editable": false
   },
   "outputs": [],
   "source": [
    "def f(feature_1,feature_2) :\n",
    "    plt.scatter(input_factory_data[feature_1],input_factory_data[feature_2])\n",
    "    plt.title('Scatter Plot of Data')\n",
    "    plt.xlabel(feature_1)\n",
    "    plt.ylabel(feature_2)\n",
    "    plt.show()"
   ]
  },
  {
   "cell_type": "markdown",
   "metadata": {
    "ExecuteTime": {
     "end_time": "2019-02-01T04:58:59.064746Z",
     "start_time": "2019-02-01T04:58:59.059748Z"
    }
   },
   "source": [
    "## Interactive Scatter Plot\n",
    "Displaying the interactive scatter plot including widgets for dynamically selecting data"
   ]
  },
  {
   "cell_type": "code",
   "execution_count": 4,
   "metadata": {
    "ExecuteTime": {
     "end_time": "2019-07-12T05:53:01.573780Z",
     "start_time": "2019-07-12T05:53:01.213779Z"
    },
    "editable": false
   },
   "outputs": [
    {
     "data": {
      "application/vnd.jupyter.widget-view+json": {
       "model_id": "64f172332b3147cf9a52c399a75e12e9",
       "version_major": 2,
       "version_minor": 0
      },
      "text/plain": [
       "interactive(children=(Dropdown(description='feature_1', options=('Turning_Cut_Depth', 'Milling_Gear_Depth', 'D…"
      ]
     },
     "metadata": {},
     "output_type": "display_data"
    }
   ],
   "source": [
    "inter=interactive(f, feature_1 = input_factory_data.columns.values, \n",
    "                     feature_2 = input_factory_data.columns.values)\n",
    "display(inter)"
   ]
  },
  {
   "cell_type": "markdown",
   "metadata": {},
   "source": [
    "## Data Preparation and pre-processing\n",
    "\n",
    "The next section is about the preprocessing of the data. If you study the raw data carefully, you will find that there are some missing values. This missing values could lead to problems when dealing with the data sets at a later point. Thus, it is necessary to preprocess the data appropriately."
   ]
  },
  {
   "cell_type": "markdown",
   "metadata": {},
   "source": [
    "### Visualize that data\n",
    "\n",
    "Look at a few data points to see how the data structure looks like:"
   ]
  },
  {
   "cell_type": "code",
   "execution_count": 5,
   "metadata": {
    "ExecuteTime": {
     "end_time": "2019-07-12T05:55:34.393420Z",
     "start_time": "2019-07-12T05:55:34.366090Z"
    },
    "editable": false
   },
   "outputs": [
    {
     "data": {
      "text/html": [
       "<div>\n",
       "<style scoped>\n",
       "    .dataframe tbody tr th:only-of-type {\n",
       "        vertical-align: middle;\n",
       "    }\n",
       "\n",
       "    .dataframe tbody tr th {\n",
       "        vertical-align: top;\n",
       "    }\n",
       "\n",
       "    .dataframe thead th {\n",
       "        text-align: right;\n",
       "    }\n",
       "</style>\n",
       "<table border=\"1\" class=\"dataframe\">\n",
       "  <thead>\n",
       "    <tr style=\"text-align: right;\">\n",
       "      <th></th>\n",
       "      <th>Turning_Cut_Depth</th>\n",
       "      <th>Milling_Gear_Depth</th>\n",
       "      <th>Drilling_Surf_Quality</th>\n",
       "      <th>Drill_Pressure</th>\n",
       "      <th>Drilling_Speed</th>\n",
       "      <th>Turning_Rotation_Speed</th>\n",
       "      <th>Turning_Cut_Speed</th>\n",
       "      <th>Milling_Circle_Diameter</th>\n",
       "      <th>Drilling_Diameter</th>\n",
       "      <th>Turning_Shaft_Diameter</th>\n",
       "      <th>class</th>\n",
       "    </tr>\n",
       "  </thead>\n",
       "  <tbody>\n",
       "    <tr>\n",
       "      <th>0</th>\n",
       "      <td>0.637</td>\n",
       "      <td>0.310</td>\n",
       "      <td>0.005</td>\n",
       "      <td>3.493</td>\n",
       "      <td>38.439</td>\n",
       "      <td>42.663</td>\n",
       "      <td>49.151</td>\n",
       "      <td>1.245</td>\n",
       "      <td>1.459</td>\n",
       "      <td>0.101</td>\n",
       "      <td>OK</td>\n",
       "    </tr>\n",
       "    <tr>\n",
       "      <th>1</th>\n",
       "      <td>0.653</td>\n",
       "      <td>0.320</td>\n",
       "      <td>0.005</td>\n",
       "      <td>1.274</td>\n",
       "      <td>39.552</td>\n",
       "      <td>43.531</td>\n",
       "      <td>49.180</td>\n",
       "      <td>1.313</td>\n",
       "      <td>1.523</td>\n",
       "      <td>0.100</td>\n",
       "      <td>OK</td>\n",
       "    </tr>\n",
       "    <tr>\n",
       "      <th>2</th>\n",
       "      <td>0.617</td>\n",
       "      <td>0.289</td>\n",
       "      <td>0.004</td>\n",
       "      <td>1.729</td>\n",
       "      <td>37.690</td>\n",
       "      <td>43.455</td>\n",
       "      <td>49.172</td>\n",
       "      <td>1.199</td>\n",
       "      <td>1.517</td>\n",
       "      <td>0.102</td>\n",
       "      <td>OK</td>\n",
       "    </tr>\n",
       "    <tr>\n",
       "      <th>3</th>\n",
       "      <td>0.596</td>\n",
       "      <td>0.291</td>\n",
       "      <td>0.005</td>\n",
       "      <td>4.747</td>\n",
       "      <td>38.071</td>\n",
       "      <td>43.164</td>\n",
       "      <td>49.167</td>\n",
       "      <td>1.223</td>\n",
       "      <td>1.496</td>\n",
       "      <td>0.100</td>\n",
       "      <td>OK</td>\n",
       "    </tr>\n",
       "    <tr>\n",
       "      <th>4</th>\n",
       "      <td>0.603</td>\n",
       "      <td>0.309</td>\n",
       "      <td>0.004</td>\n",
       "      <td>1.962</td>\n",
       "      <td>38.626</td>\n",
       "      <td>42.835</td>\n",
       "      <td>49.170</td>\n",
       "      <td>1.257</td>\n",
       "      <td>1.471</td>\n",
       "      <td>0.101</td>\n",
       "      <td>OK</td>\n",
       "    </tr>\n",
       "  </tbody>\n",
       "</table>\n",
       "</div>"
      ],
      "text/plain": [
       "   Turning_Cut_Depth  Milling_Gear_Depth  Drilling_Surf_Quality  \\\n",
       "0              0.637               0.310                  0.005   \n",
       "1              0.653               0.320                  0.005   \n",
       "2              0.617               0.289                  0.004   \n",
       "3              0.596               0.291                  0.005   \n",
       "4              0.603               0.309                  0.004   \n",
       "\n",
       "   Drill_Pressure  Drilling_Speed  Turning_Rotation_Speed  Turning_Cut_Speed  \\\n",
       "0           3.493          38.439                  42.663             49.151   \n",
       "1           1.274          39.552                  43.531             49.180   \n",
       "2           1.729          37.690                  43.455             49.172   \n",
       "3           4.747          38.071                  43.164             49.167   \n",
       "4           1.962          38.626                  42.835             49.170   \n",
       "\n",
       "   Milling_Circle_Diameter  Drilling_Diameter  Turning_Shaft_Diameter class  \n",
       "0                    1.245              1.459                   0.101    OK  \n",
       "1                    1.313              1.523                   0.100    OK  \n",
       "2                    1.199              1.517                   0.102    OK  \n",
       "3                    1.223              1.496                   0.100    OK  \n",
       "4                    1.257              1.471                   0.101    OK  "
      ]
     },
     "execution_count": 5,
     "metadata": {},
     "output_type": "execute_result"
    }
   ],
   "source": [
    "input_factory_data.head()"
   ]
  },
  {
   "cell_type": "markdown",
   "metadata": {
    "ExecuteTime": {
     "end_time": "2019-02-01T05:12:35.906682Z",
     "start_time": "2019-02-01T05:12:35.899649Z"
    }
   },
   "source": [
    "### Understanding the data\n",
    "\n",
    "When you look at the data set that is provided above, you will see that there several data values as well as the \n",
    "'index' column on the very left and a column named 'class' on the very right.\n",
    "\n",
    "The 'index' column on left serves as a unique identifier for the entire data set and indicates the number of values (minus one).\n",
    "\n",
    "The 'class' column indicates whether the product that belongs to this specific data row was determined to be of good quality \n",
    "or of bad quality. This variable is the one that we want to predict in a later step using a Machine Learning algorithm."
   ]
  },
  {
   "cell_type": "markdown",
   "metadata": {},
   "source": [
    "### Extract Target Feature\n",
    "\n",
    "In the next step we extract the target feature from the notebook. The target feture is the one that is to be prediced, thus it is the 'class' variable."
   ]
  },
  {
   "cell_type": "code",
   "execution_count": 6,
   "metadata": {
    "ExecuteTime": {
     "end_time": "2019-07-12T05:55:38.048265Z",
     "start_time": "2019-07-12T05:55:38.044265Z"
    },
    "editable": false
   },
   "outputs": [],
   "source": [
    "class_to_be_predicted=input_factory_data['class']"
   ]
  },
  {
   "cell_type": "markdown",
   "metadata": {},
   "source": [
    "Currently the class variable contains values as Strings, 'OK' and 'Failure'. In order to use this data as an input for Machine Learning, this data should be mapped on an integer value, e.g. '1' for 'OK' and '0' for 'Failure'. This can be done using a mapping function that is applied to the DataFrame as follows:"
   ]
  },
  {
   "cell_type": "code",
   "execution_count": 7,
   "metadata": {
    "ExecuteTime": {
     "end_time": "2019-07-12T05:55:40.322764Z",
     "start_time": "2019-07-12T05:55:40.310756Z"
    },
    "editable": false
   },
   "outputs": [],
   "source": [
    "mapping = {'OK': 1, 'Failure': 0}\n",
    "class_to_be_predicted=class_to_be_predicted.apply(lambda s: mapping.get(s) if s in mapping else s)"
   ]
  },
  {
   "cell_type": "markdown",
   "metadata": {},
   "source": [
    "### Definition of input features\n",
    "\n",
    "In the next step a DataFrame is created that only contains the input features of the model. Based on these selected features the model is derived as follows."
   ]
  },
  {
   "cell_type": "code",
   "execution_count": 8,
   "metadata": {
    "ExecuteTime": {
     "end_time": "2019-07-12T05:55:44.055927Z",
     "start_time": "2019-07-12T05:55:44.043923Z"
    },
    "editable": false
   },
   "outputs": [],
   "source": [
    "input_features=['Turning_Cut_Depth', 'Milling_Gear_Depth', 'Drilling_Surf_Quality', 'Drill_Pressure', \n",
    "                'Drilling_Speed', 'Turning_Rotation_Speed', 'Turning_Cut_Speed', 'Milling_Circle_Diameter', \n",
    "                'Drilling_Diameter', 'Turning_Shaft_Diameter']\n",
    "input_data_raw=input_factory_data[input_features]"
   ]
  },
  {
   "cell_type": "markdown",
   "metadata": {
    "ExecuteTime": {
     "end_time": "2019-02-01T05:31:27.566494Z",
     "start_time": "2019-02-01T05:31:27.552490Z"
    }
   },
   "source": [
    "### Data Preprocessing: Replacing NULL-Values\n",
    "\n",
    "The current data set contains non-existing values, i.e. 'NaN' in their data sets. In order to prevent faults during run of Machine Learning models, these 'NaN' values are replaced by the ```mean```-values of the entire column."
   ]
  },
  {
   "cell_type": "code",
   "execution_count": 9,
   "metadata": {
    "ExecuteTime": {
     "end_time": "2019-07-12T05:55:57.848928Z",
     "start_time": "2019-07-12T05:55:57.824870Z"
    },
    "editable": false
   },
   "outputs": [],
   "source": [
    "input_data_after_processing=input_data_raw.apply(lambda x: x.fillna(x.mean()),axis=0)"
   ]
  },
  {
   "cell_type": "markdown",
   "metadata": {},
   "source": [
    "## Feature and Target variable Selection\n",
    "\n",
    "In the next step, the feature variables are assigned to a DataFrame named 'X', and the target variable 'class' is assigned to the Series 'Y' (1-dim):"
   ]
  },
  {
   "cell_type": "code",
   "execution_count": 10,
   "metadata": {
    "ExecuteTime": {
     "end_time": "2019-07-12T05:56:02.343072Z",
     "start_time": "2019-07-12T05:56:02.340067Z"
    },
    "editable": false
   },
   "outputs": [],
   "source": [
    "X = input_data_after_processing\n",
    "Y = class_to_be_predicted"
   ]
  },
  {
   "cell_type": "markdown",
   "metadata": {
    "ExecuteTime": {
     "end_time": "2019-02-01T09:16:58.806471Z",
     "start_time": "2019-02-01T09:16:58.800470Z"
    }
   },
   "source": [
    "## Split Data\n",
    "\n",
    "In the following step, the data is split into a training and into a testing data set. The training set is used to train the Machine Learning model, the testing data set is to evaluate the performance prediction of derived model."
   ]
  },
  {
   "cell_type": "code",
   "execution_count": 11,
   "metadata": {
    "ExecuteTime": {
     "end_time": "2019-07-12T05:56:05.259917Z",
     "start_time": "2019-07-12T05:56:05.253918Z"
    },
    "editable": false
   },
   "outputs": [],
   "source": [
    "X_train, X_test, y_train, y_test = train_test_split(X, Y, test_size = 0.3)"
   ]
  },
  {
   "cell_type": "markdown",
   "metadata": {},
   "source": [
    "# Implementation of the Machine Learning Model\n",
    "\n",
    "In the next steps the creation of the Machine Learning model is prepared and executed"
   ]
  },
  {
   "cell_type": "markdown",
   "metadata": {},
   "source": [
    "### Initialization of the Machine Learning\n",
    "\n",
    "The Machine Learning variable is initialized"
   ]
  },
  {
   "cell_type": "code",
   "execution_count": 12,
   "metadata": {
    "ExecuteTime": {
     "end_time": "2019-07-12T05:56:07.706103Z",
     "start_time": "2019-07-12T05:56:07.703101Z"
    },
    "editable": false
   },
   "outputs": [],
   "source": [
    "model = None"
   ]
  },
  {
   "cell_type": "markdown",
   "metadata": {},
   "source": [
    "### Declatation of labels by the used Features\n",
    "\n",
    "Naming convention - assigning the input feature values names to a list called 'labels':"
   ]
  },
  {
   "cell_type": "code",
   "execution_count": 13,
   "metadata": {
    "ExecuteTime": {
     "end_time": "2019-07-12T05:56:09.677370Z",
     "start_time": "2019-07-12T05:56:09.673358Z"
    },
    "editable": false
   },
   "outputs": [],
   "source": [
    "labels = input_features"
   ]
  },
  {
   "cell_type": "markdown",
   "metadata": {
    "ExecuteTime": {
     "end_time": "2019-02-01T09:31:09.969779Z",
     "start_time": "2019-02-01T09:31:09.964774Z"
    }
   },
   "source": [
    "### Estimator return function\n",
    "\n",
    "Implementation of a function that returns the estimator, e.g. the prediction engine based on the Machine Learning model"
   ]
  },
  {
   "cell_type": "code",
   "execution_count": 14,
   "metadata": {
    "ExecuteTime": {
     "end_time": "2019-07-12T05:56:12.110848Z",
     "start_time": "2019-07-12T05:56:12.107842Z"
    },
    "editable": false
   },
   "outputs": [],
   "source": [
    "def catchEstimator(estimator):\n",
    "    return estimator"
   ]
  },
  {
   "cell_type": "markdown",
   "metadata": {},
   "source": [
    "### Implementation of the Tree Classifier\n",
    "\n",
    "The next function represents the core of the Machine Learning model. The steps are as follows:\n",
    "1. Definition of a decision tree classifier\n",
    "2. Apply the training model using the 'fit'-method of the estimator\n",
    "3. Setting the pre-declared model equal to the estimator\n",
    "4. Creation of the graph that is used to print the decision tree\n",
    "5. Displaying of the tree\n",
    "6. Return of estimator\n",
    "\n",
    "PLEASE NOTE: As this is only the function defintion, no results are shown after this step. The results are visualized once the function is called (see cells below)."
   ]
  },
  {
   "cell_type": "code",
   "execution_count": 15,
   "metadata": {
    "ExecuteTime": {
     "end_time": "2019-07-12T05:56:16.286734Z",
     "start_time": "2019-07-12T05:56:16.279737Z"
    },
    "editable": false
   },
   "outputs": [],
   "source": [
    "def plot_tree(crit, split, depth, min_split=0.01, min_leaf=0.2):\n",
    "    \n",
    "    # Definition of a decision tree classifier\n",
    "    estimator = DecisionTreeClassifier(random_state = 0, \n",
    "                                       criterion = crit, \n",
    "                                       splitter = split, \n",
    "                                       max_depth = depth, \n",
    "                                       min_samples_split=min_split, \n",
    "                                       min_samples_leaf= min_leaf)\n",
    "    \n",
    "    # Apply the training model using the 'fit'-method of the estimator\n",
    "    estimator.fit(X_train, y_train)\n",
    "    \n",
    "    # Setting the pre-declared model equal to the estimator\n",
    "    model = estimator\n",
    "    \n",
    "    # Creation of the graph that is used to print the tree\n",
    "    graph = Source(tree.export_graphviz(estimator, \n",
    "                                        out_file=None, \n",
    "                                        feature_names = labels, \n",
    "                                        class_names=['1', '0'], \n",
    "                                        filled = True))\n",
    "    \n",
    "    # Displaying of the tree\n",
    "    display(SVG(graph.pipe(format='svg')))\n",
    "    \n",
    "    return estimator"
   ]
  },
  {
   "cell_type": "markdown",
   "metadata": {},
   "source": [
    "### Interactive function to generate customized tree models\n",
    "\n",
    "The interactive function to be implemented enables the user to create custom tree classifiers by using different parameters. The parameters can be changed by means of widgets and will immediately update the result tree."
   ]
  },
  {
   "cell_type": "code",
   "execution_count": 17,
   "metadata": {
    "ExecuteTime": {
     "end_time": "2019-07-12T05:56:37.564393Z",
     "start_time": "2019-07-12T05:56:37.443399Z"
    },
    "editable": false
   },
   "outputs": [
    {
     "data": {
      "application/vnd.jupyter.widget-view+json": {
       "model_id": "b6b014fd7d8d4a0895d8c165237e0984",
       "version_major": 2,
       "version_minor": 0
      },
      "text/plain": [
       "interactive(children=(Dropdown(description='crit', options=('gini', 'entropy'), value='gini'), Dropdown(descri…"
      ]
     },
     "metadata": {},
     "output_type": "display_data"
    },
    {
     "data": {
      "text/plain": [
       "DecisionTreeClassifier(class_weight=None, criterion='gini', max_depth=1,\n",
       "            max_features=None, max_leaf_nodes=None,\n",
       "            min_impurity_decrease=0.0, min_impurity_split=None,\n",
       "            min_samples_leaf=0.2, min_samples_split=0.05,\n",
       "            min_weight_fraction_leaf=0.0, presort=False, random_state=0,\n",
       "            splitter='best')"
      ]
     },
     "execution_count": 17,
     "metadata": {},
     "output_type": "execute_result"
    }
   ],
   "source": [
    "inter=interactive(plot_tree, \n",
    "                  crit = [\"gini\", \"entropy\"], \n",
    "                  split = [\"best\", \"random\"], \n",
    "                  depth = [1,2,3,4,5,6,7], \n",
    "                  min_split = (0.05,0.5), \n",
    "                  min_leaf = (0.05,0.5))\n",
    "display(inter)\n",
    "inter.result"
   ]
  },
  {
   "cell_type": "markdown",
   "metadata": {},
   "source": [
    "# Predict the accuracy , construct confusion matrix\n",
    "\n",
    "In the last part of the program the decision tree is evaluated and a confusion matrix is derived"
   ]
  },
  {
   "cell_type": "code",
   "execution_count": 18,
   "metadata": {
    "ExecuteTime": {
     "end_time": "2019-07-12T05:57:12.238859Z",
     "start_time": "2019-07-12T05:57:11.989858Z"
    },
    "editable": false
   },
   "outputs": [
    {
     "name": "stdout",
     "output_type": "stream",
     "text": [
      "DecisionTreeClassifier(class_weight=None, criterion='gini', max_depth=3,\n",
      "            max_features=None, max_leaf_nodes=None,\n",
      "            min_impurity_decrease=0.0, min_impurity_split=None,\n",
      "            min_samples_leaf=0.15, min_samples_split=0.05,\n",
      "            min_weight_fraction_leaf=0.0, presort=False, random_state=0,\n",
      "            splitter='best')\n",
      "Accuracy: 0.8023333333333333\n"
     ]
    },
    {
     "data": {
      "text/plain": [
       "<matplotlib.axes._subplots.AxesSubplot at 0x170e37fb080>"
      ]
     },
     "execution_count": 18,
     "metadata": {},
     "output_type": "execute_result"
    },
    {
     "data": {
      "image/png": "[encoded data removed]",
      "text/plain": [
       "<Figure size 432x288 with 2 Axes>"
      ]
     },
     "metadata": {
      "needs_background": "light"
     },
     "output_type": "display_data"
    }
   ],
   "source": [
    "classification_model=inter.result\n",
    "print(inter.result)\n",
    "y_pred=classification_model.predict(X_test)\n",
    "y_pred_scores = classification_model.score(X_test, y_test, sample_weight=None)\n",
    "y_scores=  cross_val_score(classification_model,X_test, y_test, cv=10)                    \n",
    "print(\"Accuracy:\",metrics.accuracy_score(y_test, y_pred))\n",
    "skplt.metrics.plot_confusion_matrix(y_test, y_pred, normalize=True)"
   ]
  },
  {
   "cell_type": "code",
   "execution_count": null,
   "metadata": {},
   "outputs": [],
   "source": []
  }
 ],
 "metadata": {
  "celltoolbar": "Edit Metadata",
  "kernelspec": {
   "display_name": "Python 3",
   "language": "python",
   "name": "python3"
  },
  "language_info": {
   "codemirror_mode": {
    "name": "ipython",
    "version": 3
   },
   "file_extension": ".py",
   "mimetype": "text/x-python",
   "name": "python",
   "nbconvert_exporter": "python",
   "pygments_lexer": "ipython3",
   "version": "3.7.1"
  }
 },
 "nbformat": 4,
 "nbformat_minor": 2
}
